{
  "nbformat": 4,
  "nbformat_minor": 0,
  "metadata": {
    "colab": {
      "name": "Image Classifier.py",
      "provenance": [],
      "authorship_tag": "ABX9TyMlxdlqoq61MYo1W4x8S4Mu"
    },
    "kernelspec": {
      "name": "python3",
      "display_name": "Python 3"
    },
    "language_info": {
      "name": "python"
    }
  },
  "cells": [
    {
      "cell_type": "code",
      "metadata": {
        "id": "9UqKyktvlu4M"
      },
      "source": [
        "# Description: This programe is inspired by Youtube Channel Computer Science https://www.youtube.com/watch?v=iGWbqhdjf2s with some imprpvements\n",
        "#              A convolutional neural networks (CNN)-based machine learning algorithm which incoporates TensorFlow and Keras to classify images\n",
        "#              Trained with the CIFAR-100 dataset."
      ],
      "execution_count": 1,
      "outputs": []
    },
    {
      "cell_type": "code",
      "metadata": {
        "id": "9vhWfL3ktAsu"
      },
      "source": [
        "import tensorflow as tf\n",
        "from tensorflow import keras\n",
        "from keras.models import Sequential\n",
        "from keras.layers import Dense, Flatten, Conv2D, MaxPooling2D, Dropout\n",
        "from tensorflow.keras import layers\n",
        "from keras.utils import to_categorical\n",
        "import numpy as np\n",
        "import matplotlib.pyplot as plt\n",
        "plt.style.use('fivethirtyeight')"
      ],
      "execution_count": 2,
      "outputs": []
    },
    {
      "cell_type": "code",
      "metadata": {
        "id": "ieB-bmLvuJcK",
        "colab": {
          "base_uri": "https://localhost:8080/"
        },
        "outputId": "fc81a107-1310-4ba8-c63a-3fb6e74b05fa"
      },
      "source": [
        "# Load Data\n",
        "from keras.datasets import cifar100\n",
        "(x_train, y_train), (x_test, y_test) = cifar100.load_data(label_mode='fine')"
      ],
      "execution_count": 3,
      "outputs": [
        {
          "output_type": "stream",
          "text": [
            "Downloading data from https://www.cs.toronto.edu/~kriz/cifar-100-python.tar.gz\n",
            "169009152/169001437 [==============================] - 2s 0us/step\n"
          ],
          "name": "stdout"
        }
      ]
    },
    {
      "cell_type": "code",
      "metadata": {
        "colab": {
          "base_uri": "https://localhost:8080/"
        },
        "id": "SBi2YkaN8Noz",
        "outputId": "2a34e0fb-2b2b-47dc-b19b-a7f082d9c734"
      },
      "source": [
        "# Check data types of variables\n",
        "print(type(x_train))\n",
        "print(type(y_train))\n",
        "print(type(x_test))\n",
        "print(type(y_test))"
      ],
      "execution_count": 4,
      "outputs": [
        {
          "output_type": "stream",
          "text": [
            "<class 'numpy.ndarray'>\n",
            "<class 'numpy.ndarray'>\n",
            "<class 'numpy.ndarray'>\n",
            "<class 'numpy.ndarray'>\n"
          ],
          "name": "stdout"
        }
      ]
    },
    {
      "cell_type": "code",
      "metadata": {
        "colab": {
          "base_uri": "https://localhost:8080/"
        },
        "id": "L4n4RFNI8elH",
        "outputId": "534f5e1f-65ac-44c0-b959-d287ff673e36"
      },
      "source": [
        "# Get shape of arrays\n",
        "print('x_train shape:', x_train.shape)\n",
        "print('y_train shape:', y_train.shape)\n",
        "print('x_test shape:', x_test.shape)\n",
        "print('y_test shape:', y_test.shape)"
      ],
      "execution_count": 5,
      "outputs": [
        {
          "output_type": "stream",
          "text": [
            "x_train shape: (50000, 32, 32, 3)\n",
            "y_train shape: (50000, 1)\n",
            "x_test shape: (10000, 32, 32, 3)\n",
            "y_test shape: (10000, 1)\n"
          ],
          "name": "stdout"
        }
      ]
    },
    {
      "cell_type": "code",
      "metadata": {
        "colab": {
          "base_uri": "https://localhost:8080/"
        },
        "id": "hflSf-yh8tn1",
        "outputId": "6e7e237a-c653-404d-b6d5-980b1838a1f4"
      },
      "source": [
        "# Look at the first image as an array\n",
        "index = 0\n",
        "x_train[index] "
      ],
      "execution_count": 6,
      "outputs": [
        {
          "output_type": "execute_result",
          "data": {
            "text/plain": [
              "array([[[255, 255, 255],\n",
              "        [255, 255, 255],\n",
              "        [255, 255, 255],\n",
              "        ...,\n",
              "        [195, 205, 193],\n",
              "        [212, 224, 204],\n",
              "        [182, 194, 167]],\n",
              "\n",
              "       [[255, 255, 255],\n",
              "        [254, 254, 254],\n",
              "        [254, 254, 254],\n",
              "        ...,\n",
              "        [170, 176, 150],\n",
              "        [161, 168, 130],\n",
              "        [146, 154, 113]],\n",
              "\n",
              "       [[255, 255, 255],\n",
              "        [254, 254, 254],\n",
              "        [255, 255, 255],\n",
              "        ...,\n",
              "        [189, 199, 169],\n",
              "        [166, 178, 130],\n",
              "        [121, 133,  87]],\n",
              "\n",
              "       ...,\n",
              "\n",
              "       [[148, 185,  79],\n",
              "        [142, 182,  57],\n",
              "        [140, 179,  60],\n",
              "        ...,\n",
              "        [ 30,  17,   1],\n",
              "        [ 65,  62,  15],\n",
              "        [ 76,  77,  20]],\n",
              "\n",
              "       [[122, 157,  66],\n",
              "        [120, 155,  58],\n",
              "        [126, 160,  71],\n",
              "        ...,\n",
              "        [ 22,  16,   3],\n",
              "        [ 97, 112,  56],\n",
              "        [141, 161,  87]],\n",
              "\n",
              "       [[ 87, 122,  41],\n",
              "        [ 88, 122,  39],\n",
              "        [101, 134,  56],\n",
              "        ...,\n",
              "        [ 34,  36,  10],\n",
              "        [105, 133,  59],\n",
              "        [138, 173,  79]]], dtype=uint8)"
            ]
          },
          "metadata": {
            "tags": []
          },
          "execution_count": 6
        }
      ]
    },
    {
      "cell_type": "code",
      "metadata": {
        "colab": {
          "base_uri": "https://localhost:8080/",
          "height": 284
        },
        "id": "qD3p79ct9OYN",
        "outputId": "71a70f88-3803-4e3d-a7a5-91fd04d665fc"
      },
      "source": [
        "# Show image as img\n",
        "img = plt.imshow(x_train[index])"
      ],
      "execution_count": 7,
      "outputs": [
        {
          "output_type": "display_data",
          "data": {
            "image/png": "[encoded data removed]",
            "text/plain": [
              "<Figure size 432x288 with 1 Axes>"
            ]
          },
          "metadata": {
            "tags": []
          }
        }
      ]
    },
    {
      "cell_type": "code",
      "metadata": {
        "colab": {
          "base_uri": "https://localhost:8080/"
        },
        "id": "3xne9rZI9YRQ",
        "outputId": "88bfb1d6-d57d-435e-e5c6-1a51500551cd"
      },
      "source": [
        "# Get image label\n",
        "print('The image label is: ', y_train[index])"
      ],
      "execution_count": 8,
      "outputs": [
        {
          "output_type": "stream",
          "text": [
            "The image label is:  [19]\n"
          ],
          "name": "stdout"
        }
      ]
    },
    {
      "cell_type": "code",
      "metadata": {
        "colab": {
          "base_uri": "https://localhost:8080/"
        },
        "id": "oVQXf2g99mes",
        "outputId": "389af1fc-281d-4cde-e170-2b66435a2510"
      },
      "source": [
        "# Image classification defined by CIFAR\n",
        "classification = ['apple', 'aquarium_fish', 'baby', 'bear', 'beaver', 'bed', 'bee', 'beetle', 'bicycle', 'bottle', 'bowl', 'boy', 'bridge', 'bus', 'butterfly', 'camel', 'can', 'castle', 'caterpillar', 'cattle', 'chair', 'chimpanzee', 'clock', 'cloud', 'cockroach', 'couch', 'crab', 'crocodile', 'cup', 'dinosaur', 'dolphin', 'elephant', 'flatfish', 'forest', 'fox', 'girl', 'hamster', 'house', 'kangaroo', 'keyboard', 'lamp', 'lawn_mower', 'leopard', 'lion', 'lizard', 'lobster', 'man', 'maple_tree', 'motorcycle', 'mountain', 'mouse', 'mushroom', 'oak_tree', 'orange', 'orchid', 'otter', 'palm_tree', 'pear', 'pickup_truck', 'pine_tree', 'plain', 'plate', 'poppy', 'porcupine', 'possum', 'rabbit', 'raccoon', 'ray', 'road', 'rocket', 'rose', 'sea', 'seal', 'shark', 'shrew', 'skunk', 'skyscraper', 'snail', 'snake', 'spider', 'squirrel', 'streetcar', 'sunflower', 'sweet_pepper', 'table', 'tank', 'telephone', 'television', 'tiger', 'tractor', 'train', 'trout', 'tulip', 'turtle', 'wardrobe', 'whale', 'willow_tree', 'wolf', 'woman', 'worm']\n",
        "\n",
        "# Print Image Class\n",
        "print('The image class is : ', classification[y_train[index][0]])"
      ],
      "execution_count": 9,
      "outputs": [
        {
          "output_type": "stream",
          "text": [
            "The image class is :  cattle\n"
          ],
          "name": "stdout"
        }
      ]
    },
    {
      "cell_type": "code",
      "metadata": {
        "id": "ABAiyJOX-bAC"
      },
      "source": [
        "# Convert the labels into a set of 10 numbers to input into the neural network\n",
        "y_train_one_hot = to_categorical(y_train)\n",
        "y_test_one_hot = to_categorical(y_test)"
      ],
      "execution_count": 10,
      "outputs": []
    },
    {
      "cell_type": "code",
      "metadata": {
        "colab": {
          "base_uri": "https://localhost:8080/"
        },
        "id": "l58X9GnCEjZh",
        "outputId": "b79efb18-12b8-444c-a566-f76500ceb60f"
      },
      "source": [
        "# Print the new labels\n",
        "print(y_train_one_hot)\n",
        "print(y_test_one_hot)"
      ],
      "execution_count": 11,
      "outputs": [
        {
          "output_type": "stream",
          "text": [
            "[[0. 0. 0. ... 0. 0. 0.]\n",
            " [0. 0. 0. ... 0. 0. 0.]\n",
            " [1. 0. 0. ... 0. 0. 0.]\n",
            " ...\n",
            " [0. 0. 0. ... 0. 0. 0.]\n",
            " [0. 0. 0. ... 0. 0. 0.]\n",
            " [0. 0. 0. ... 0. 0. 0.]]\n",
            "[[0. 0. 0. ... 0. 0. 0.]\n",
            " [0. 0. 0. ... 0. 0. 0.]\n",
            " [0. 0. 0. ... 0. 0. 0.]\n",
            " ...\n",
            " [0. 0. 0. ... 0. 0. 0.]\n",
            " [0. 0. 0. ... 0. 0. 0.]\n",
            " [0. 0. 0. ... 0. 0. 0.]]\n"
          ],
          "name": "stdout"
        }
      ]
    },
    {
      "cell_type": "code",
      "metadata": {
        "colab": {
          "base_uri": "https://localhost:8080/"
        },
        "id": "YU-KZFdyEql4",
        "outputId": "c5033c04-e410-41b6-94fa-b1751f9d94e9"
      },
      "source": [
        "# Print the new label of the image/ picture above\n",
        "print('The one hot label is: ', y_train_one_hot[index])"
      ],
      "execution_count": 12,
      "outputs": [
        {
          "output_type": "stream",
          "text": [
            "The one hot label is:  [0. 0. 0. 0. 0. 0. 0. 0. 0. 0. 0. 0. 0. 0. 0. 0. 0. 0. 0. 1. 0. 0. 0. 0.\n",
            " 0. 0. 0. 0. 0. 0. 0. 0. 0. 0. 0. 0. 0. 0. 0. 0. 0. 0. 0. 0. 0. 0. 0. 0.\n",
            " 0. 0. 0. 0. 0. 0. 0. 0. 0. 0. 0. 0. 0. 0. 0. 0. 0. 0. 0. 0. 0. 0. 0. 0.\n",
            " 0. 0. 0. 0. 0. 0. 0. 0. 0. 0. 0. 0. 0. 0. 0. 0. 0. 0. 0. 0. 0. 0. 0. 0.\n",
            " 0. 0. 0. 0.]\n"
          ],
          "name": "stdout"
        }
      ]
    },
    {
      "cell_type": "code",
      "metadata": {
        "id": "GgqDvWGAE9c5"
      },
      "source": [
        "# Normalize pixels to values between 0 and 1\n",
        "x_train = x_train/255\n",
        "x_test = x_test/255"
      ],
      "execution_count": 13,
      "outputs": []
    },
    {
      "cell_type": "code",
      "metadata": {
        "id": "1C2ARKYWFQpH"
      },
      "source": [
        "# Create the models architecture\n",
        "model = Sequential()\n",
        "\n",
        "# Add the first layer\n",
        "model.add(Conv2D(32, (5,5), activation='relu', input_shape = (32,32,3)))\n",
        "\n",
        "# Add a pooling layer\n",
        "model.add(MaxPooling2D(pool_size = (2,2)))\n",
        "\n",
        "# Add another convolution layer\n",
        "model.add(MaxPooling2D(pool_size = (2,2)))\n",
        "\n",
        "# Add a flattening layer\n",
        "model.add(Flatten())\n",
        "\n",
        "# Add a layer with 2000 neurons\n",
        "model.add(Dense(2000, activation = 'relu'))\n",
        "\n",
        "# Add a dropout layer\n",
        "model.add(Dropout(0.5))\n",
        "\n",
        "# Add a layer with 1000 neurons\n",
        "model.add(Dense(1000, activation = 'relu'))\n",
        "\n",
        "# Add a dropout layer\n",
        "model.add(Dropout(0.5))\n",
        "\n",
        "# Add a layer with 250 neurons\n",
        "model.add(Dense(250, activation = 'relu'))\n",
        "\n",
        "# Add a layer with 100 neurons\n",
        "model.add(Dense(100, activation = 'softmax'))"
      ],
      "execution_count": 14,
      "outputs": []
    },
    {
      "cell_type": "code",
      "metadata": {
        "id": "l3D_6xjLHF2v"
      },
      "source": [
        "# Compile the model\n",
        "model.compile(loss = 'categorical_crossentropy', optimizer = 'adam', metrics = ['accuracy'])"
      ],
      "execution_count": 15,
      "outputs": []
    },
    {
      "cell_type": "code",
      "metadata": {
        "colab": {
          "base_uri": "https://localhost:8080/"
        },
        "id": "AhHiKJ8hHUiR",
        "outputId": "f39daeac-0e7d-449c-ebeb-2decc33ba31b"
      },
      "source": [
        "# Train the model\n",
        "hist = model.fit(x_train, y_train_one_hot, batch_size=250, epochs=10, validation_split=0.2)"
      ],
      "execution_count": 16,
      "outputs": [
        {
          "output_type": "stream",
          "text": [
            "Epoch 1/10\n",
            "160/160 [==============================] - 63s 386ms/step - loss: 4.4258 - accuracy: 0.0304 - val_loss: 3.7001 - val_accuracy: 0.1286\n",
            "Epoch 2/10\n",
            "160/160 [==============================] - 61s 379ms/step - loss: 3.6334 - accuracy: 0.1365 - val_loss: 3.2788 - val_accuracy: 0.2070\n",
            "Epoch 3/10\n",
            "160/160 [==============================] - 61s 381ms/step - loss: 3.2469 - accuracy: 0.2055 - val_loss: 2.9954 - val_accuracy: 0.2560\n",
            "Epoch 4/10\n",
            "160/160 [==============================] - 63s 397ms/step - loss: 2.9843 - accuracy: 0.2558 - val_loss: 2.8701 - val_accuracy: 0.2855\n",
            "Epoch 5/10\n",
            "160/160 [==============================] - 60s 377ms/step - loss: 2.8172 - accuracy: 0.2887 - val_loss: 2.7503 - val_accuracy: 0.3141\n",
            "Epoch 6/10\n",
            "160/160 [==============================] - 60s 376ms/step - loss: 2.6135 - accuracy: 0.3297 - val_loss: 2.6790 - val_accuracy: 0.3262\n",
            "Epoch 7/10\n",
            "160/160 [==============================] - 60s 375ms/step - loss: 2.4766 - accuracy: 0.3538 - val_loss: 2.5907 - val_accuracy: 0.3460\n",
            "Epoch 8/10\n",
            "160/160 [==============================] - 60s 378ms/step - loss: 2.3481 - accuracy: 0.3781 - val_loss: 2.5659 - val_accuracy: 0.3531\n",
            "Epoch 9/10\n",
            "160/160 [==============================] - 60s 377ms/step - loss: 2.2378 - accuracy: 0.4064 - val_loss: 2.5066 - val_accuracy: 0.3618\n",
            "Epoch 10/10\n",
            "160/160 [==============================] - 60s 376ms/step - loss: 2.1365 - accuracy: 0.4250 - val_loss: 2.5241 - val_accuracy: 0.3660\n"
          ],
          "name": "stdout"
        }
      ]
    },
    {
      "cell_type": "code",
      "metadata": {
        "id": "7eq1f7MZHwhJ",
        "colab": {
          "base_uri": "https://localhost:8080/"
        },
        "outputId": "9975c193-3965-4918-cadc-15bc83246763"
      },
      "source": [
        "# Evaluate the model using the test data set\n",
        "model.evaluate(x_test, y_test_one_hot)[1]"
      ],
      "execution_count": 17,
      "outputs": [
        {
          "output_type": "stream",
          "text": [
            "313/313 [==============================] - 7s 21ms/step - loss: 2.4861 - accuracy: 0.3714\n"
          ],
          "name": "stdout"
        },
        {
          "output_type": "execute_result",
          "data": {
            "text/plain": [
              "0.37139999866485596"
            ]
          },
          "metadata": {
            "tags": []
          },
          "execution_count": 17
        }
      ]
    },
    {
      "cell_type": "code",
      "metadata": {
        "id": "ugBUSvfSIpJ3",
        "colab": {
          "base_uri": "https://localhost:8080/",
          "height": 325
        },
        "outputId": "c4f9a583-db70-4d83-b04b-7e0d0464da50"
      },
      "source": [
        "# Visualize the model's accuracy\n",
        "plt.plot(hist.history['accuracy'])\n",
        "plt.plot(hist.history['val_accuracy'])\n",
        "plt.title('Model Accuracy')\n",
        "plt.ylabel('Accuracy')\n",
        "plt.xlabel('Epoch')\n",
        "plt.legend(['Train', 'Val'], loc = 'upper left')\n",
        "plt.show()"
      ],
      "execution_count": 18,
      "outputs": [
        {
          "output_type": "display_data",
          "data": {
            "image/png": "[encoded data removed]",
            "text/plain": [
              "<Figure size 432x288 with 1 Axes>"
            ]
          },
          "metadata": {
            "tags": []
          }
        }
      ]
    },
    {
      "cell_type": "code",
      "metadata": {
        "id": "C1Id2WnjJkxi",
        "colab": {
          "base_uri": "https://localhost:8080/",
          "height": 325
        },
        "outputId": "7613ff25-ae4a-4055-86e7-8d8821be3260"
      },
      "source": [
        "# Visualize the model loss\n",
        "plt.plot(hist.history['loss'])\n",
        "plt.plot(hist.history['val_loss'])\n",
        "plt.title('Model Loss')\n",
        "plt.ylabel('Loss')\n",
        "plt.xlabel('Epoch')\n",
        "plt.legend(['Train', 'Val'], loc = 'upper right')\n",
        "plt.show()"
      ],
      "execution_count": 19,
      "outputs": [
        {
          "output_type": "display_data",
          "data": {
            "image/png": "[encoded data removed]",
            "text/plain": [
              "<Figure size 432x288 with 1 Axes>"
            ]
          },
          "metadata": {
            "tags": []
          }
        }
      ]
    },
    {
      "cell_type": "code",
      "metadata": {
        "id": "6D0O-q5cKf44"
      },
      "source": [
        "# Resize the image\n",
        "new_image = plt.imread(\"sample_data/lion.jpg\")\n",
        "from skimage.transform import resize\n",
        "resized_image = resize(new_image, (32, 32, 3))"
      ],
      "execution_count": 32,
      "outputs": []
    },
    {
      "cell_type": "code",
      "metadata": {
        "id": "d5w40mZIKNlO",
        "colab": {
          "base_uri": "https://localhost:8080/",
          "height": 284
        },
        "outputId": "860ca228-d0f0-4000-d128-103c60f2daee"
      },
      "source": [
        "# Show the images\n",
        "img = plt.imshow(new_image)\n",
        "img = plt.imshow(resized_image)"
      ],
      "execution_count": 33,
      "outputs": [
        {
          "output_type": "display_data",
          "data": {
            "image/png": "[encoded data removed]",
            "text/plain": [
              "<Figure size 432x288 with 1 Axes>"
            ]
          },
          "metadata": {
            "tags": []
          }
        }
      ]
    },
    {
      "cell_type": "code",
      "metadata": {
        "id": "0BHizF4QK18M",
        "colab": {
          "base_uri": "https://localhost:8080/"
        },
        "outputId": "4cd0515c-6278-439a-f177-6769ee4a16ce"
      },
      "source": [
        "# Get the model's prediction\n",
        "predictions = model.predict(np.array([resized_image]))\n",
        "# Show prediction\n",
        "print(predictions)"
      ],
      "execution_count": 34,
      "outputs": [
        {
          "output_type": "stream",
          "text": [
            "[[3.50461107e-07 7.99908958e-06 2.45094416e-04 3.48214700e-04\n",
            "  2.44000712e-05 1.07363938e-07 4.80419612e-06 1.10167733e-07\n",
            "  4.60216654e-07 7.10412787e-05 6.19410275e-05 3.29325907e-04\n",
            "  8.60021654e-09 1.78332744e-08 1.10348651e-06 6.27876492e-03\n",
            "  1.60693147e-04 3.00865054e-07 4.85100918e-06 7.80030387e-05\n",
            "  3.16075663e-08 3.40846918e-06 1.19739457e-03 1.40618530e-08\n",
            "  8.28768407e-07 1.19561889e-07 2.79530695e-06 1.18368985e-06\n",
            "  5.26212621e-04 1.32140471e-04 1.42478411e-08 2.24447886e-05\n",
            "  7.33221987e-06 1.37018719e-06 3.33622545e-02 2.06511747e-03\n",
            "  1.35060893e-02 4.73731143e-06 1.47695572e-03 1.61318141e-07\n",
            "  9.05704161e-04 4.00597138e-08 4.63529956e-03 9.04608786e-01\n",
            "  9.11145162e-06 9.50545291e-06 4.61499585e-04 4.94819581e-08\n",
            "  3.74875103e-10 1.90898697e-09 2.72778096e-03 2.07268313e-04\n",
            "  5.64551426e-11 8.51698871e-07 3.93203482e-06 1.19703545e-04\n",
            "  2.84436908e-07 1.01418816e-03 2.35209907e-11 8.65951009e-08\n",
            "  9.85228739e-12 1.89638886e-05 8.88183571e-09 1.13434129e-04\n",
            "  1.47328968e-03 8.07256089e-04 5.07628283e-05 3.05811909e-06\n",
            "  8.28293156e-10 9.60092621e-07 5.06198262e-07 2.83465917e-10\n",
            "  7.68690443e-05 1.33650488e-07 4.10418068e-07 1.33846845e-08\n",
            "  2.93975120e-07 5.94297424e-04 7.98530255e-06 8.96683832e-06\n",
            "  4.96707764e-03 1.75201311e-08 6.14240703e-09 1.11393881e-07\n",
            "  1.65483686e-06 2.19629737e-08 2.08962174e-05 2.81867392e-06\n",
            "  1.23854894e-02 1.00177283e-06 7.56304708e-09 6.05780173e-08\n",
            "  1.70765691e-06 3.17163904e-06 5.00171118e-05 1.73397269e-10\n",
            "  3.35771119e-07 2.41774926e-03 2.35540816e-03 2.87266130e-06]]\n"
          ],
          "name": "stdout"
        }
      ]
    },
    {
      "cell_type": "code",
      "metadata": {
        "id": "oRxp4Vx7LEm8",
        "colab": {
          "base_uri": "https://localhost:8080/"
        },
        "outputId": "de6aa79c-4791-41a6-ca5c-8999d63bab3f"
      },
      "source": [
        "# Sort the predictions in accending order\n",
        "list_index = np.arange(100).tolist()\n",
        "x = predictions\n",
        "\n",
        "for i in range(100):\n",
        "  for j in range(100):\n",
        "    if x[0][list_index[i]] > x[0][list_index[j]]:\n",
        "      temp = list_index[i]\n",
        "      list_index[i] = list_index[j]\n",
        "      list_index[j] = temp\n",
        "\n",
        "# Show the sorted labels in order\n",
        "print(list_index)"
      ],
      "execution_count": 35,
      "outputs": [
        {
          "output_type": "stream",
          "text": [
            "[43, 34, 36, 88, 15, 80, 42, 50, 97, 98, 35, 38, 64, 22, 57, 40, 65, 77, 28, 46, 3, 11, 2, 51, 16, 29, 55, 63, 19, 72, 9, 10, 66, 94, 4, 31, 86, 61, 45, 44, 79, 1, 78, 32, 18, 6, 37, 54, 21, 93, 67, 99, 87, 26, 92, 84, 33, 27, 14, 89, 69, 53, 24, 70, 8, 74, 0, 96, 17, 76, 56, 39, 73, 25, 83, 7, 5, 59, 91, 47, 41, 20, 85, 13, 81, 30, 23, 75, 62, 12, 90, 82, 49, 68, 48, 71, 95, 52, 58, 60]\n"
          ],
          "name": "stdout"
        }
      ]
    },
    {
      "cell_type": "code",
      "metadata": {
        "id": "ZClSFgm5dYFs",
        "colab": {
          "base_uri": "https://localhost:8080/"
        },
        "outputId": "345e7464-2974-4059-ce78-6620a1dc0c69"
      },
      "source": [
        "# Print the first 5 predictions\n",
        "print('Classification :')\n",
        "for i in range(5):\n",
        "  print(classification[list_index[i]], ':', round(predictions[0][list_index[i]] * 100, 2), '%')"
      ],
      "execution_count": 36,
      "outputs": [
        {
          "output_type": "stream",
          "text": [
            "Classification :\n",
            "lion : 90.46 %\n",
            "fox : 3.34 %\n",
            "hamster : 1.35 %\n",
            "tiger : 1.24 %\n",
            "camel : 0.63 %\n"
          ],
          "name": "stdout"
        }
      ]
    }
  ]
}